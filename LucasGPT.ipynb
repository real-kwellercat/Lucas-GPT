{
  "nbformat": 4,
  "nbformat_minor": 0,
  "metadata": {
    "colab": {
      "provenance": [],
      "toc_visible": true,
      "authorship_tag": "ABX9TyM42LAREIVNx6hs1s8iptKA",
      "include_colab_link": true
    },
    "kernelspec": {
      "name": "python3",
      "display_name": "Python 3"
    },
    "language_info": {
      "name": "python"
    }
  },
  "cells": [
    {
      "cell_type": "markdown",
      "metadata": {
        "id": "view-in-github",
        "colab_type": "text"
      },
      "source": [
        "<a href=\"https://colab.research.google.com/github/real-kwellercat/Lucas-GPT/blob/main/LucasGPT.ipynb\" target=\"_parent\"><img src=\"https://colab.research.google.com/assets/colab-badge.svg\" alt=\"Open In Colab\"/></a>"
      ]
    },
    {
      "cell_type": "markdown",
      "source": [
        "# LucasGPT\n",
        "Wanted to talk to a smart person but don't have friends? This is the perfect solution!"
      ],
      "metadata": {
        "id": "ibLsxTwLvw2r"
      }
    },
    {
      "cell_type": "code",
      "source": [
        "#@title Introduce yourself to LucasGPT!\n",
        "#@markdown _LucasGPT is a virtual buddy, so it needs your name._ <br> Please enter your name below. <br>\n",
        "Name = '' #@param {type:\"string\"}\n",
        "CarterbisMode = False #@param {type:\"boolean\"}\n"
      ],
      "metadata": {
        "id": "wdHjwjy6wRmw"
      },
      "execution_count": null,
      "outputs": []
    }
  ]
}